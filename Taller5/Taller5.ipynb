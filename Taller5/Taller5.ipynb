{
 "cells": [
  {
   "cell_type": "markdown",
   "metadata": {},
   "source": [
    "<h2 align=\"center\">TALLER 5. INTRODUCCIÓN AL ANÁLISIS DE IMÁGEN</h2>"
   ]
  },
  {
   "cell_type": "markdown",
   "metadata": {},
   "source": [
    "<div style=\"text-align: justify\"> El presente archivo muestra el desarrollo del taller 5. En este taller se desarrolla tanto el ejemplo en clase de los círculos como el análisis de micrografía de una metalografía dada. Así, contenido del el taller 5 acerca de análisis de imágen se organiza de la siguiente manera: </div>"
   ]
  },
  {
   "cell_type": "markdown",
   "metadata": {},
   "source": [
    "<div style=\"text-align: left\"> \n",
    "<h4><a href=\"#punto1\">1. Determinación del diámetro de una vesícula junto con su respectivo centroide</a></h4>\n",
    "<h4><a href=\"#punto2\">2. Granulometría: Determinación de del tamaño de esféras de grafito en hierro nodular</a></h4>  </div>\n",
    "<h4><a href=\"#punto2\">3. Bibliografía</a></h4>  </div>\n"
   ]
  },
  {
   "cell_type": "code",
   "execution_count": 159,
   "metadata": {},
   "outputs": [
    {
     "name": "stdout",
     "output_type": "stream",
     "text": [
      "Populating the interactive namespace from numpy and matplotlib\n"
     ]
    }
   ],
   "source": [
    "# Librerias importadas para el desarrollo del taller\n",
    "%pylab inline\n",
    "import scipy\n",
    "from scipy import misc #Miscelanea\n",
    "from scipy import ndimage # Librería Imágenes\n",
    "import numpy as np\n",
    "import matplotlib.pyplot as plt\n",
    "\n",
    "from skimage import data, color\n",
    "from skimage.transform import hough_circle, hough_circle_peaks\n",
    "from skimage.feature import canny\n",
    "from skimage.draw import circle_perimeter\n",
    "from skimage.util import img_as_ubyte\n",
    "from PIL import Image\n",
    "from skimage import feature\n",
    "import cv2\n",
    "import seaborn as sns\n",
    "import pandas as pd"
   ]
  },
  {
   "cell_type": "markdown",
   "metadata": {},
   "source": [
    "<h4><a name=\"punto1\">1. Determinación del diámetro de una vesícula junto con su respectivo centroide</a></h4>"
   ]
  },
  {
   "cell_type": "markdown",
   "metadata": {},
   "source": [
    "<div style=\"text-align: justify\"> Tal como aparece en el enunciado, el objetivo de este ejercicio es hacer un reconocimiento de las dimensiones en vesículas lipídicas. Así, el propósito es lograr obtener tanto la posición del centroide de la vesícula como el diámetro de la misma (todo en medidas de pixeles debido a que no se conoce la escala exacta de la figura). Para ello, se utiliza la figura 1 entregada en clase, la cual muestra una fotografía monocromática con ruido de una vesícula lipídica.  </div>\n"
   ]
  },
  {
   "cell_type": "markdown",
   "metadata": {},
   "source": [
    "<img style=\"float: center;\" src=\"ves_full_150_002.jpg\" style=\"height:270px\"> </img>\n",
    "<p></p>\n",
    "<div style=\"text-align:center\"> <b>Figura 1. Vesícula lipídica dada en clase</b> </div>"
   ]
  },
  {
   "cell_type": "markdown",
   "metadata": {},
   "source": [
    "<div style=\"text-align: justify\"> Con base en esta figura se procede a realizar el análisis de imágen de la vesícula. Para  ello, se empieza por realizar un filtro gaussiando. Esto con el objetivo de hacer más visible el borde de la vesícula para aplicar el filtro canny. Dicho esto, en la figura 2a se observa el filtro aplicado. En este caso, se utilizó un filtro con $\\sigma=1.8$. El valor de este parámetro se obtuvo iterando hasta obtener uno en el que filtro canny (con un parámetro de $\\sigma = 3.0$) reconociera el borde del circulo de manera correcta. Cabe aclarar que antes de aplicar los filtros fue necesario pasar la imagen a blanco y negro, lo cual se puede visualizar en el código. Así, la figura 2 muestra el filtro gaussiando y el filtro canny utilizados: </div>"
   ]
  },
  {
   "cell_type": "code",
   "execution_count": 2,
   "metadata": {},
   "outputs": [],
   "source": [
    "Im1 = pylab.imread(\"ves_full_150_002.jpg\") # Se lee la imagen\n",
    "vsa = Image.open(\"ves_full_150_002.jpg\") # Se abre la imagen para obtener la matriz RGB de sus colores\n",
    "gray = vsa.convert('L') #Se convierte la imagen a gris\n",
    "bw = numpy.asarray(gray) #Se implimenta un array con las propiedades de la imagen en gris\n",
    "f1 = ndimage.gaussian_filter(bw, 1.8) #Se aplica el filtro gaussiano\n",
    "bordes = feature.canny(f1, sigma=3) #Se aplica el filtro canny\n",
    "\n",
    "fig, axes = plt.subplots(1, 2, figsize=(15,5))\n",
    "axes[0].imshow(f1); axes[0].set_title('a) Filtro gaussiando aplicado ($\\sigma$=1.8)')\n",
    "axes[1].imshow(bordes); axes[1].set_title('b) Filtro Canny ($\\sigma = 3.0$)')\n",
    "plt.close()\n",
    "fig.savefig('figura2', bbox_inches='tight');"
   ]
  },
  {
   "cell_type": "markdown",
   "metadata": {},
   "source": [
    "<img style=\"float: center;\" src=\"figura2.png\"> </img>\n",
    "<p></p>\n",
    "<div style=\"text-align:center\"> <b>Figura 2. Filtro gaussiano y filtro canny aplicados sobre la vesícula</b> </div>"
   ]
  },
  {
   "cell_type": "markdown",
   "metadata": {},
   "source": [
    "<div style=\"text-align: justify\"> Posterior a esto, se procede a hacer el filtro hough. Este filtro consiste en iterar valores de una diámetros definidos soobre los gradientes de color de la imagen obtenida después del cannny. Así, se realiza el filtro desde los radios $r_1=210\\ ppx$ y $r_2=350\\ ppx$. Así, con este filtro se obtiene la imagen completa del borde de la vesícula (figura 3b). Luego de esto, se procede a calcular la posición del centroide (centro_x y centro_y) y se grafica lo obtenido sobre la imagen original. </div>"
   ]
  },
  {
   "cell_type": "code",
   "execution_count": 3,
   "metadata": {},
   "outputs": [],
   "source": [
    "hough_radii = np.arange(210, 350, 2) #radio iterado mediante el filtro\n",
    "hough_res = hough_circle(bordes, hough_radii) #filtro utilizado sobre el canny\n",
    "accums, cx, cy, radii = hough_circle_peaks(hough_res, hough_radii,\n",
    "                                           total_num_peaks=1) #cálculo de los bordes mediante las coordenadas cx y cy\n",
    "for center_y, center_x, radius in zip(cy, cx, radii):\n",
    "    circy, circx = circle_perimeter(center_y, center_x, radius)\n",
    "\n",
    "# Cálculo del centro del círculo\n",
    "centro_x = max(circx)-max(radii)\n",
    "centro_y = max(circy)-max(radii)\n"
   ]
  },
  {
   "cell_type": "code",
   "execution_count": 4,
   "metadata": {},
   "outputs": [
    {
     "name": "stdout",
     "output_type": "stream",
     "text": [
      "Diámetro [píxeles] = 238\n",
      "Centro [píxeles] = [280, 276]\n"
     ]
    }
   ],
   "source": [
    "fig, (ax1, ax2, ax3) = plt.subplots(nrows=1, ncols=3, figsize=(12, 4),\n",
    "                                    sharex=True, sharey=True)\n",
    "ax1.imshow(Im1, cmap=plt.cm.gray)\n",
    "ax1.set_title('a) Imagen original', fontsize=10); ax1.axis('off')\n",
    "ax2.plot(circx,circy, ',m',lw=0.5); ax2.axis('off')\n",
    "ax2.set_title('b) Bordes encontrados con el filtro Hough', fontsize=10)\n",
    "ax2.plot(centro_x,centro_y,'om')\n",
    "ax3.imshow(Im1); axis('off')\n",
    "ax3.plot(circx,circy, ',m',lw=0.5)\n",
    "ax3.plot(centro_x,centro_y,'om')\n",
    "ax3.set_title('c) Superposición de las dos imágenes', fontsize=10)\n",
    "print(f'Diámetro [píxeles] = {max(radii)}')\n",
    "print(f'Centro [píxeles] = {[centro_y, centro_x]}')\n",
    "\n",
    "fig.tight_layout()\n",
    "\n",
    "plt.close()\n",
    "fig.savefig('figura3', bbox_inches='tight');"
   ]
  },
  {
   "cell_type": "markdown",
   "metadata": {},
   "source": [
    "<img style=\"float: center;\" src=\"figura3.png\"> </img>\n",
    "<p></p>\n",
    "<div style=\"text-align:center\"> <b>Figura 3. Aplicación del filtro Hough para hallar el borde completo de la vesícula junto con su centroide.</b> </div>"
   ]
  },
  {
   "cell_type": "markdown",
   "metadata": {},
   "source": [
    "<div style=\"text-align: justify\"> Con base en lo anterior, al observar la figura 3c es posible inferir que los radios elegidos para la iteración fueron correctos, al igual que los parámetros $\\sigma$ de los filtros gaussiando y canny. Así, se puede observar que el borde obtenido con el filtro hough se ajusta de una manera bastante precisa al borde real de la imagen, presentando algunas desviaciones cerca al borde derecho de la figura. Para mejorar la precisión, se podría hacer los siguiente:a) agregar otro tipo de filtros como un aumento de contraste y brillo que permitan evitar estos errores; b) variar nuevamente los parámetros $\\sigma$ y los radios hasta encontrar los que se aproximen más a la imagen real. </div>"
   ]
  },
  {
   "cell_type": "markdown",
   "metadata": {},
   "source": [
    "<h4><a name=\"punto2\">2. Granulometría: Determinación del tamaño de inclusiones de grafito en hierro nodular</a></h4>"
   ]
  },
  {
   "cell_type": "markdown",
   "metadata": {},
   "source": [
    "<div style=\"text-align: justify\"> Luego de haber realizado el filtro hough con una sola imagen, lo siguiente es aplicarlo a un caso de ingeniería. De esta manera, el procedimiento anterior se realizará nuevamente, pero esta vez para una granulometría. De esta manera, la imagen a utilizar es un hierro nodular fundido cuya superficie ha sido pulida, tal como se observa en la figura 4a. Así, el objetivo del ejercicio es encontrar el tamaño de las inclusiones de carbono sobre la superficie en una de sus formas alotrópicas más conocidas: grafito. Con estos resultados se procederá a realizar un histograma de dicho tamaño.Teniendo en cuenta esta imagen, se procede a pasar el formato de colores a un formato binario, de tal forma que la imagen solo quede con dos colores (figura 4b).  </div>"
   ]
  },
  {
   "cell_type": "code",
   "execution_count": 51,
   "metadata": {},
   "outputs": [],
   "source": [
    "fe_nodular = cv2.imread('fe_nod.JPG')\n",
    "nod_bin = cv2.cvtColor(fe_nodular,cv2.COLOR_BGR2GRAY)\n",
    "ret, thresh = cv2.threshold(nod_bin,0,255,cv2.THRESH_BINARY_INV+cv2.THRESH_OTSU)\n",
    "\n",
    "fig, axes = plt.subplots(1, 2, figsize=(15,5))\n",
    "axes[0].imshow(fe_nodular); axes[0].set_title('a) Imagen original de hierro nodular pulido a escala 100x')\n",
    "axes[1].imshow(thresh); axes[1].set_title('b) Imagen obtenida en formato de colores binario')\n",
    "plt.close()\n",
    "fig.savefig('figura4', bbox_inches='tight');"
   ]
  },
  {
   "cell_type": "markdown",
   "metadata": {},
   "source": [
    "<img style=\"float: center;\" src=\"figura4.png\"> </img>\n",
    "<p></p>\n",
    "<div style=\"text-align:center\"> <b>Figura 4. Imagen de la metalografía de un hierro nodular pulido en formato de colores original y en formato binario [1]. Este hierro fundido tiene una composición de (Fe-3.6%C-2.9%Si-0.14%Mn-0.04%P-0.02%S-0.16%Ni-0.06%Mg)</b> </div>"
   ]
  },
  {
   "cell_type": "markdown",
   "metadata": {},
   "source": [
    "<div style=\"text-align: justify\"> Posterior a esto, se procede a eliminar el ruido de la imagen. En este caso, se considera ruido a todas aquellas zonas y puntos de color negro que no tienen el tamaño apropiado para hacer parte del análisis. Para saber esto, se itera el parámetro de la transformada sobre la línea 8 del código mostrado [2]. Así, se obtuvo un parámetro de 0.5 para eliminar el ruido, obteniendo dos imágenes: una imagen más limpia (figura 5a) y una con todos sus bordes delimitados (figura 5b).</div>"
   ]
  },
  {
   "cell_type": "code",
   "execution_count": 48,
   "metadata": {},
   "outputs": [],
   "source": [
    "# noise removal\n",
    "kernel = np.ones((3,3),np.uint8)\n",
    "opening = cv2.morphologyEx(thresh,cv2.MORPH_OPEN,kernel, iterations = 2)\n",
    "# sure background area\n",
    "sure_bg = cv2.dilate(opening,kernel,iterations=3)\n",
    "# Finding sure foreground area\n",
    "dist_transform = cv2.distanceTransform(opening,cv2.DIST_L2,5)\n",
    "ret, sure_fg = cv2.threshold(dist_transform,0.4*dist_transform.max(),255,0)\n",
    "# Finding unknown region\n",
    "sure_fg = np.uint8(sure_fg)\n",
    "unknown = cv2.subtract(sure_bg,sure_fg)"
   ]
  },
  {
   "cell_type": "code",
   "execution_count": 49,
   "metadata": {},
   "outputs": [],
   "source": [
    "fig, axes = plt.subplots(1, 2, figsize=(15,5))\n",
    "axes[0].imshow(sure_fg); axes[0].set_title('a) Imagen con ruido filtrado')\n",
    "axes[1].imshow(unknown); axes[1].set_title('b) Imagen con los bordes demarcados')\n",
    "plt.close()\n",
    "fig.savefig('figura5', bbox_inches='tight');"
   ]
  },
  {
   "cell_type": "markdown",
   "metadata": {},
   "source": [
    "<img style=\"float: center;\" src=\"figura5.png\"> </img>\n",
    "<p></p>\n",
    "<div style=\"text-align:center\"> <b>Figura 5. Imagenes de la metalografía luego de remover el ruido sobre la figura 4b y delimitar los bordes de las inclusiones de carbono</b> </div>"
   ]
  },
  {
   "cell_type": "markdown",
   "metadata": {},
   "source": [
    "\n",
    "<div style=\"text-align: justify\"> A partir de lo anterior se procede a superponer la imagen 5b con la imagen original con el fin de observar la precisión con la cual se estan delimitando los bordes de las inclusiones. Esto se puede observar en la figura 6.</div>"
   ]
  },
  {
   "cell_type": "code",
   "execution_count": 52,
   "metadata": {},
   "outputs": [],
   "source": [
    "# Marker labelling\n",
    "ret, markers = cv2.connectedComponents(sure_fg)\n",
    "# Add one to all labels so that sure background is not 0, but 1\n",
    "markers = markers+1\n",
    "# Now, mark the region of unknown with zero\n",
    "markers[unknown==255] = 0\n",
    "markers = cv2.watershed(fe_nodular,markers)\n",
    "fe_nodular[markers == -1] = [255,0,0]\n",
    "plt.imshow(fe_nodular)\n",
    "plt.savefig('figura6', bbox_inches='tight');\n",
    "plt.close()"
   ]
  },
  {
   "cell_type": "markdown",
   "metadata": {},
   "source": [
    "<img style=\"float: center;\" src=\"figura6.png\" style=\"height:350px\">  </img>\n",
    "<p></p>\n",
    "<div style=\"text-align:center\"> <b>Figura 6. Imagen de la metalografía del hierro nodular con las inclusiones de grafito delimitadas </b> </div>"
   ]
  },
  {
   "cell_type": "markdown",
   "metadata": {},
   "source": [
    "<div style=\"text-align: justify\"> Como se puede observar, los limites son bastante precisos, por lo cual se procede a calcular el tamaño de las inclusiones. Para ello, primero se procede preparar la imagen con la que se va a realizar el filtro hough. En este caso, se quita el color de la figura 6 y se deja solo los bordes delimitados sobre la imagen. Luego, se procede a realizar el filtro hough para esta última imagen (figura 7). Los parámetros del filtro se calcularon iterando los valores, de tal forma que se lograra obtener una aproximación aceptable para calcular el tamaño de las inclusiones mediante el conteo de las mismas. </div>"
   ]
  },
  {
   "cell_type": "code",
   "execution_count": 172,
   "metadata": {},
   "outputs": [],
   "source": [
    "fe_nodular[markers == -1] = [255,255,255]; fe_nodular[markers != -1] = [0,0,0]\n",
    "np.save('inclusiones',fe_nodular); hf = np.load('inclusiones.npy')\n",
    "hf = color.rgb2grey(hf)\n",
    "\n",
    "hough_radii = np.arange(6, 35, 1)\n",
    "hough_res = hough_circle(hf, hough_radii)\n",
    "accums, cx, cy, radii = hough_circle_peaks(hough_res, hough_radii,total_num_peaks=120)\n",
    "fe = cv2.imread('fe_nod.JPG')\n",
    "fig, ax = plt.subplots(ncols=1, nrows=1, figsize=(10, 10)); completa = color.gray2rgb(fe)\n",
    "for center_y, center_x, radius in zip(cy, cx, radii):\n",
    "    circy, circx = circle_perimeter(center_y, center_x, radius)\n",
    "    completa[circy, circx] = (220, 20, 255)    \n",
    "\n",
    "ax.imshow(completa)\n",
    "plt.savefig('figura7', bbox_inches='tight');\n",
    "plt.close()"
   ]
  },
  {
   "cell_type": "markdown",
   "metadata": {},
   "source": [
    "<img style=\"float: center;\" src=\"figura7.png\" style=\"height:450px\">  </img>\n",
    "<p></p>\n",
    "<div style=\"text-align:center\"> <b>Figura 7. Imagen de la metalografía del hierro nodular con las inclusiones de grafito delimitadas luego del filtro hough </b> </div>"
   ]
  },
  {
   "cell_type": "markdown",
   "metadata": {},
   "source": [
    "<div style=\"text-align: justify\"> Al observar la figura 7 es posible decir que, a pesar de que la aproximación realizada mediante el filtro hough fue aceptable, no fue posible demarcar los limites de todas las inclusiones de grafito. Esto se debe a que no todas las inclusiones son perfectamente circulares, lo cual hace que el filtro no los reconozca correctamente. Adicional a esto, es posible decir que hay algunos límites de inclusiones que se repiten (círculos concéntricos sobre la misma inclusión). Esto significa que al filtro le tomó multiples iteraciones para reconocer inclusiones que no eran tan circulares, de tal forma que la siguiente mejor iteración antes de reconocer estas inclusiones era aquella que estaba cercana a un círculo ya reconocido. Debido a esto, el histograma realizado a continuación (figura 8) va a presentar un pequeño error ya que incluye partículas de grafito que no existen. Con base en esto, se realiza el histograma correspondiente. Para ello, se utiliza la escala de $100\\ \\mu m$ que se puede apreciar en la imagen original del hierro nodular para convertir los pixeles. Así, la conversión de unidades es la siguiente:</div>"
   ]
  },
  {
   "cell_type": "markdown",
   "metadata": {},
   "source": [
    "<div style=\"text-align: center\"> $1\\ pixel*\\frac{100\\ \\mu m}{58\\ pixeles} = 1.72\\frac{\\mu m}{pixeles}\\ \\longrightarrow 1\\ pixel = 1.72\\ \\mu m $ </div>\n"
   ]
  },
  {
   "cell_type": "markdown",
   "metadata": {},
   "source": [
    "<div style=\"text-align: justify\">Con este factor de conversión, se realiza histograma correspondiente.</div>"
   ]
  },
  {
   "cell_type": "code",
   "execution_count": 176,
   "metadata": {},
   "outputs": [],
   "source": [
    "diametros = 2*radii*(100/58);\n",
    "ax = sns.distplot(diametros, color='purple', kde=False, rug=True)\n",
    "plt.xlabel(\"Tamaño de inclusión encontrada $(\\mu m)$\"); plt.ylabel(\"Frecuencia relativa\")\n",
    "plt.grid('on')\n",
    "plt.savefig('figura8', bbox_inches='tight'); plt.close();"
   ]
  },
  {
   "cell_type": "markdown",
   "metadata": {},
   "source": [
    "<img style=\"float: center;\" src=\"figura8.png\">  </img>\n",
    "<p></p>\n",
    "<div style=\"text-align:center\"> <b>Figura 8. Histograma obtenido de los tamaños de las inclusiones de grafito</b> </div>"
   ]
  },
  {
   "cell_type": "markdown",
   "metadata": {},
   "source": [
    "<div style=\"text-align: justify\">Al analizar el histograma obtenido, es posible decir que, la mayor frecuencia relativa de los granos se encuentra aproximadamente entre los tamaños 26 $\\mu m$ y  30 $\\mu m$. Con base en esto, es posible decir que esta frecuencia coincide con lo visto en la figura 4a ya que es posible ver que la mayor cantidad de inclusiones no son de gran tamaño, sino más bien pequeño. A pesar de esto, al analizar la cantidad de circulos encontrados con el filtro hough con respecto al número de inclusiones, es posible observar que este resultado varía bastante. Mientras que con el filtro hough se contaron 120 círculos (peaks=120) para lograr delimitar la mayor cantidad de inclusiones posible (sin importar si se repetían ciertos círculos), el número real de inclusiones contadas es de 78. Así, es posible ver que, como si dijo anteriormente, el filtro reconoció más granos de los que realmente habían, lo cual hace que el histograma presente un error dentro de la distribución del tamaño. </div>\n"
   ]
  },
  {
   "cell_type": "markdown",
   "metadata": {},
   "source": [
    "<h4><a name=\"punto3\">3. Bibliografía</a></h4>"
   ]
  },
  {
   "cell_type": "markdown",
   "metadata": {},
   "source": [
    "[1] American Society of Metals, ASM Handbook Volume 9: Metallography and Microstructures, ASM, 2004. "
   ]
  },
  {
   "cell_type": "markdown",
   "metadata": {},
   "source": [
    "[2] OpenCV, «Image Segmentation with Watershed Algorithm,» [En línea]. Available: https://docs.opencv.org/3.3.1/d3/db4/tutorial_py_watershed.html. [Último acceso: 15 Abril 2018]."
   ]
  },
  {
   "cell_type": "code",
   "execution_count": null,
   "metadata": {},
   "outputs": [],
   "source": []
  }
 ],
 "metadata": {
  "kernelspec": {
   "display_name": "Python 3.6",
   "language": "python",
   "name": "python36"
  },
  "language_info": {
   "codemirror_mode": {
    "name": "ipython",
    "version": 3
   },
   "file_extension": ".py",
   "mimetype": "text/x-python",
   "name": "python",
   "nbconvert_exporter": "python",
   "pygments_lexer": "ipython3",
   "version": "3.6.3"
  }
 },
 "nbformat": 4,
 "nbformat_minor": 2
}
