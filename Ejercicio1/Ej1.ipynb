{
 "cells": [
  {
   "cell_type": "code",
   "execution_count": 99,
   "metadata": {},
   "outputs": [
    {
     "name": "stdout",
     "output_type": "stream",
     "text": [
      "Ejercicio 1\n",
      "\n",
      "[0, 0.3141592653589793, 0.6283185307179586, 0.9424777960769379, 1.2566370614359172, 1.5707963267948966, 1.8849555921538759, 2.199114857512855, 2.5132741228718345, 0.3141592653589793, 3.141592653589793]\n",
      "\n",
      "[0.0, 0.3090169943749474, 0.5877852522924731, 0.8090169943749475, 0.9510565162951535, 1.0, 0.9510565162951536, 0.8090169943749475, 0.5877852522924732, 0.3090169943749474, 1.2246467991473532e-16]\n",
      "\n",
      "El seno de 0.0*pi es = 0.0\n",
      "El seno de 0.1*pi es = 0.3090169943749474\n",
      "El seno de 0.2*pi es = 0.5877852522924731\n",
      "El seno de 0.3*pi es = 0.8090169943749475\n",
      "El seno de 0.4*pi es = 0.9510565162951535\n",
      "El seno de 0.5*pi es = 1.0\n",
      "El seno de 0.6*pi es = 0.9510565162951536\n",
      "El seno de 0.7*pi es = 0.8090169943749475\n",
      "El seno de 0.8*pi es = 0.5877852522924732\n",
      "El seno de 0.9*pi es = 0.3090169943749474\n",
      "\n"
     ]
    }
   ],
   "source": [
    "import math #Se debe importar el paquete -math- para poner el valor de pi\n",
    "print (\"Ejercicio 1\")\n",
    "print()\n",
    "vector_pi = [0, 0.1*math.pi, 0.2*math.pi, 0.3*math.pi, 0.4*math.pi, 0.5*math.pi, 0.6*math.pi, 0.7*math.pi, 0.8*math.pi, 0.1*math.pi, math.pi]\n",
    "print(vector_pi)\n",
    "vector_sin = [] #Este comando -[]- crea un vector vacío\"\n",
    "longitud_vector = len(vector_pi) #El comando -len()- devuelve un entero con la longitud del vector \n",
    "int_vector = int(longitud_vector) \n",
    "for i in range(int_vector): #En el comando -for i in- el comando -range()- define un rango de 0 a la longitud del vector (0:10)\n",
    "    valores_vector = vector_pi[i] #Este comando llama los valores del vector y los asigna 1 por 1 a una nueva variable\n",
    "    y = math.sin(valores_vector) #El -comando math.sin()- calcula el seno de los valores\n",
    "    vector_sin.append(y) #El comando -.append()- añade un valor al vector en cuestión\n",
    "print()\n",
    "print(vector_sin)\n",
    "print()\n",
    "for i in range(int_vector-1):\n",
    "    print(f\"El seno de 0.{i}*pi es =\", vector_sin[i]) \n",
    "    #En un print se utiliza la coma (,) para añadir más elementos. Se pueden agregar números y letras\n",
    "    # el letra -f- al pricipio del print es para utilizar el comando -{i}- y que este varíe dentro del String\n",
    "print()"
   ]
  },
  {
   "cell_type": "code",
   "execution_count": null,
   "metadata": {},
   "outputs": [],
   "source": []
  }
 ],
 "metadata": {
  "kernelspec": {
   "display_name": "Python 3.6",
   "language": "python",
   "name": "python36"
  },
  "language_info": {
   "codemirror_mode": {
    "name": "ipython",
    "version": 3
   },
   "file_extension": ".py",
   "mimetype": "text/x-python",
   "name": "python",
   "nbconvert_exporter": "python",
   "pygments_lexer": "ipython3",
   "version": "3.6.3"
  }
 },
 "nbformat": 4,
 "nbformat_minor": 2
}
