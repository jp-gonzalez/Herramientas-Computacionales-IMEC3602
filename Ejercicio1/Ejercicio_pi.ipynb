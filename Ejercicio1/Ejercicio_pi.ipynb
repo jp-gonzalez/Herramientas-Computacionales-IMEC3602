{
 "cells": [
  {
   "cell_type": "code",
   "execution_count": 79,
   "metadata": {},
   "outputs": [
    {
     "name": "stdout",
     "output_type": "stream",
     "text": [
      "1. EJERCICIO PARA CALCULAR PI CON UN DETERMINADO NÚMERO DE LANZAMIENTOS N:\n",
      "\n",
      "- Puntos encontrados fuera del círculo: 214150\n",
      "- Total de puntos lanzados: 1000000\n",
      "- A partir de este método estadístico, se sabe que la constante pi es: 3.143\n",
      "\n",
      "2. EJERCICIO PARA CALCULAR LA CONVERGENCIA DE PI CUANDO N TIENDE A INFINITO:\n",
      "\n",
      "- Los valores a los cuales converge el número pi son: [0.0, 2.0, 3.08, 3.2279999999999998, 3.1584, 3.13856, 3.141216]\n",
      "- Las gráfica de convergencia en escala logarítmica es:\n"
     ]
    },
    {
     "data": {
      "image/png": "[encoded data removed]",
      "text/plain": [
       "<matplotlib.figure.Figure at 0x7fbbec1d6828>"
      ]
     },
     "metadata": {},
     "output_type": "display_data"
    }
   ],
   "source": [
    "import math\n",
    "from random import randint, uniform, random\n",
    "import matplotlib.pyplot as plt\n",
    "from matplotlib import pyplot\n",
    "\n",
    "# ----------------------------------------------------------------------------------------------------------------------\n",
    "# Parte 1 del ejercicio: Cálculo del número pi con los lanzamientos dentro del cuadrado\n",
    "print (\"1. EJERCICIO PARA CALCULAR PI CON UN DETERMINADO NÚMERO DE LANZAMIENTOS N:\")\n",
    "print()\n",
    "N = 1000000 #Variable que define el número de elementos dentro del cuadrado\n",
    "int_N = int(N) #Hace un rango de 0 al número N definido\n",
    "vector_x = [] #Crea un vector vacío que representa las coordenadas x de los puntos\n",
    "vector_y = [] #Crea un vector vacío que representa las coordenadas y de los puntos\n",
    "for i in range(int_N): #Cilo de repetición de 0 al número N de variables\n",
    "    a = uniform(-1,1) #Comando para generar 1 número aleatorio entre -1 y 1 en el eje y\n",
    "    b = uniform(-1,1) #Comando para generar 1 número aleatorio entre -1 y 1 en el eje x\n",
    "    vector_x.append(a) #Comando para agregar los número aleatorios a un vector\n",
    "    vector_y.append(b) #Comando para agregar los números aleatorios a un vector\n",
    "\n",
    "in_circle = 0\n",
    "for i in range(int_N):\n",
    "    c = vector_x[i] # Coordenada x del punto i\n",
    "    d = vector_y[i] # Coordenada y del punto i\n",
    "    e = c**2 + d**2 # Sumatoria cuadrática de las dos coordenadas\n",
    "    if e > 1: # Condicional para saber si las coordenadas están dentro del círculo o fuera del mismo\n",
    "        in_circle = in_circle + 1 # Contador para saber el número de lanzamientos que están fuera del círculo\n",
    "print(\"- Puntos encontrados fuera del círculo:\", in_circle)\n",
    "print(\"- Total de puntos lanzados:\", N)\n",
    "constante_pi = (1 - (in_circle/N))*4\n",
    "print(\"- A partir de este método estadístico, se sabe que la constante pi es:\", round(constante_pi,3))\n",
    "print()\n",
    "# -----------------------------------------------------------------------------------------------------------------------------\n",
    "# Parte 2 del ejercicio: Gráfica de convergencia a medida que N tiende a infinito\n",
    "\n",
    "print (\"2. EJERCICIO PARA CALCULAR LA CONVERGENCIA DE PI CUANDO N TIENDE A INFINITO:\")\n",
    "print()\n",
    "k = 7 # Número de iteraciones del for\n",
    "k_int = int(k) # Crear rango de 1 a k\n",
    "valores_pi = [] # Vector vacío para agregar los valores de pi\n",
    "secuencia_10 = []\n",
    "z = []\n",
    "p_i = math.pi\n",
    "for i in range(k):\n",
    "    z.append(p_i)\n",
    "    Numero_iteraciones = 10**i\n",
    "    secuencia_10.append(Numero_iteraciones)\n",
    "    int_iteraciones = int(Numero_iteraciones) \n",
    "    vector_xi = [] \n",
    "    vector_yi = [] \n",
    "    for j in range(int_iteraciones): \n",
    "        ai = uniform(-1,1) \n",
    "        bi = uniform(-1,1) \n",
    "        vector_xi.append(ai) \n",
    "        vector_yi.append(bi) \n",
    "    in_circlei = 0\n",
    "    for u in range(int_iteraciones):\n",
    "        ci = vector_xi[u] \n",
    "        di = vector_yi[u] \n",
    "        ei = ci**2 + di**2 \n",
    "        if ei > 1: \n",
    "            in_circlei = in_circlei + 1 \n",
    "    valores_pi.append((1 - (in_circlei/Numero_iteraciones))*4)\n",
    "print(\"- Los valores a los cuales converge el número pi son:\",valores_pi)\n",
    "print(\"- Las gráfica de convergencia en escala logarítmica es:\")\n",
    "\n",
    "x = secuencia_10\n",
    "y = valores_pi\n",
    "plt.plot(x, y)\n",
    "plt.plot(x, z, 'r--')\n",
    "plt.xscale('log')\n",
    "plt.xlabel('Número de intentos N')\n",
    "plt.ylabel('Valor de la constante pi')\n",
    "axes = plt.gca()\n",
    "axes.set_ylim([1.5,4.1])\n",
    "plt.grid()\n",
    "plt.show()\n",
    "# --------------------------------------------------------------------------------------------------------------------------    "
   ]
  },
  {
   "cell_type": "code",
   "execution_count": null,
   "metadata": {},
   "outputs": [],
   "source": []
  },
  {
   "cell_type": "code",
   "execution_count": null,
   "metadata": {},
   "outputs": [],
   "source": []
  },
  {
   "cell_type": "code",
   "execution_count": null,
   "metadata": {},
   "outputs": [],
   "source": []
  }
 ],
 "metadata": {
  "kernelspec": {
   "display_name": "Python 3.6",
   "language": "python",
   "name": "python36"
  },
  "language_info": {
   "codemirror_mode": {
    "name": "ipython",
    "version": 3
   },
   "file_extension": ".py",
   "mimetype": "text/x-python",
   "name": "python",
   "nbconvert_exporter": "python",
   "pygments_lexer": "ipython3",
   "version": "3.6.3"
  }
 },
 "nbformat": 4,
 "nbformat_minor": 2
}
