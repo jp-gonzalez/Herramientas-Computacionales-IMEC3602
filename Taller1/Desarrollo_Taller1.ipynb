{
 "cells": [
  {
   "cell_type": "code",
   "execution_count": 29,
   "metadata": {},
   "outputs": [],
   "source": [
    "import os\n",
    "import pandas as pd"
   ]
  },
  {
   "cell_type": "code",
   "execution_count": 30,
   "metadata": {},
   "outputs": [
    {
     "name": "stdout",
     "output_type": "stream",
     "text": [
      "Populating the interactive namespace from numpy and matplotlib\n"
     ]
    }
   ],
   "source": [
    "%pylab inline"
   ]
  },
  {
   "cell_type": "code",
   "execution_count": 31,
   "metadata": {},
   "outputs": [
    {
     "data": {
      "text/plain": [
       "'/home/nbuser/library/Taller1'"
      ]
     },
     "execution_count": 31,
     "metadata": {},
     "output_type": "execute_result"
    }
   ],
   "source": [
    "pwd"
   ]
  },
  {
   "cell_type": "code",
   "execution_count": 32,
   "metadata": {},
   "outputs": [],
   "source": [
    "base_dir = os.path.join( '.','data')\n",
    "ciudad = 'Barranquilla'\n",
    "fuente_tierra = 'IDEAM'\n",
    "fuente_satelite = 'NREL'\n",
    "\n",
    "# Datos tomados por el IDEAM (Tomados en tierra)\n",
    "serie_csv_tierra = os.path.join(base_dir,ciudad,fuente_tierra+'.csv')\n",
    "serie_pd_tierra = pd.read_csv(serie_csv_tierra, sep = ';',\n",
    "                encoding='latin-1')\n",
    "\n",
    "# Datos tomados por la NASA (Tomados por el satélite)\n",
    "serie_csv_satelite = os.path.join(base_dir,ciudad,fuente_satelite+'.csv')\n",
    "serie_pd_satelite = pd.read_csv(serie_csv_satelite, sep = ';',\n",
    "                encoding='latin-1')\n"
   ]
  },
  {
   "cell_type": "code",
   "execution_count": 33,
   "metadata": {},
   "outputs": [],
   "source": [
    "# A continuación se define la función ghi_mensual, la cual calcula la energía total en kWh/m^2 para cada mes en la serie de datos.\n",
    "# Igualmente, la función ghi_dia calcula el promedio diario de cada mes"
   ]
  },
  {
   "cell_type": "code",
   "execution_count": 34,
   "metadata": {},
   "outputs": [],
   "source": [
    "def ghi_mensual(serie_horaria):\n",
    "    agnos = sorted(serie_horaria['AÑO'].unique())\n",
    "    ghi_df = pd.DataFrame(columns=[\"AÑO\", \"MES\", \"DIAS\", \"GHImes\"])\n",
    "    for agno in agnos:\n",
    "        for mes in range(1,13):\n",
    "            nombre_energia = list(serie_horaria)[-1]\n",
    "            dias = sorted(serie_horaria[(serie_horaria['AÑO'] == agno) &\n",
    "                        (serie_horaria['MES'] == mes)][\"DIA\"].unique())\n",
    "            ghi_mes = serie_horaria.loc[((serie_horaria[\"AÑO\"] == agno)\n",
    "                            & (serie_horaria[\"MES\"] == mes)),\n",
    "                                        nombre_energia].sum()/1000\n",
    "            ghi_dict = {\"AÑO\":agno, \"MES\":mes, \"DIAS\":dias[-1],\n",
    "                        \"GHImes\":ghi_mes}\n",
    "            ghi_df = ghi_df.append(ghi_dict, ignore_index=True)\n",
    "    return ghi_df"
   ]
  },
  {
   "cell_type": "code",
   "execution_count": 35,
   "metadata": {},
   "outputs": [],
   "source": [
    "def ghi_dia(serie_ghi_mensual):\n",
    "    agnos = sorted(serie_ghi_mensual['AÑO'].unique())\n",
    "    ghi_df = pd.DataFrame(columns=[\"AÑO\", \"MES\", \"GHIdiario\"])\n",
    "    for agno in agnos:\n",
    "        for mes in range(1,13):\n",
    "            dias = serie_ghi_mensual.loc[((serie_ghi_mensual[\"AÑO\"] == agno)\n",
    "                            & (serie_ghi_mensual[\"MES\"] == mes))\n",
    "                                         ,\"DIAS\"].item()\n",
    "            ghi_diario = serie_ghi_mensual.loc[(\n",
    "                (serie_ghi_mensual[\"AÑO\"] == agno)\n",
    "                            & (serie_ghi_mensual[\"MES\"] == mes)),\n",
    "                \"GHImes\"].item()/dias\n",
    "            ghi_dict = {\"AÑO\":agno, \"MES\":mes, \"GHIdiario\":ghi_diario}\n",
    "            ghi_df = ghi_df.append(ghi_dict, ignore_index=True)\n",
    "    return ghi_df"
   ]
  },
  {
   "cell_type": "code",
   "execution_count": 36,
   "metadata": {},
   "outputs": [],
   "source": [
    "# Luego, se utilizan las funciones en los datos anteriores"
   ]
  },
  {
   "cell_type": "code",
   "execution_count": 37,
   "metadata": {},
   "outputs": [],
   "source": [
    "# Aplicación de las funciones para el IDEAM\n",
    "\n",
    "ghi_mensual_loc_tierra = ghi_mensual(serie_pd_tierra)\n",
    "ghi_diario_loc_tierra = ghi_dia(ghi_mensual_loc_tierra)\n",
    "datos_IDEAM = sorted(ghi_diario_loc_tierra[\"GHIdiario\"])\n",
    "\n",
    "# Aplicación de las funciones para los datos satelitales\n",
    "\n",
    "ghi_mensual_loc_satelite = ghi_mensual(serie_pd_satelite)\n",
    "ghi_diario_loc_satelite = ghi_dia(ghi_mensual_loc_satelite)\n",
    "datos_NREL = sorted(ghi_diario_loc_satelite[\"GHIdiario\"])\n"
   ]
  },
  {
   "cell_type": "code",
   "execution_count": 13,
   "metadata": {},
   "outputs": [],
   "source": [
    "# Posteriormente, se plotean los datos en orden ascendente"
   ]
  },
  {
   "cell_type": "code",
   "execution_count": 40,
   "metadata": {},
   "outputs": [
    {
     "data": {
      "text/plain": [
       "<matplotlib.legend.Legend at 0x7fc863ce8da0>"
      ]
     },
     "execution_count": 40,
     "metadata": {},
     "output_type": "execute_result"
    },
    {
     "data": {
      "image/png": "[encoded data removed]",
      "text/plain": [
       "<matplotlib.figure.Figure at 0x7fc863d240b8>"
      ]
     },
     "metadata": {},
     "output_type": "display_data"
    }
   ],
   "source": [
    "pylab.xlabel(\"Datos en el tiempo $[Meses]$\")\n",
    "pylab.ylabel(\"Energía/Energía Base IDEAM\")\n",
    "numdatos_tierra = range(len(datos_IDEAM))\n",
    "numdatos_satelite = range(len(datos_NREL))\n",
    "pylab.plot(numdatos_tierra,datos_IDEAM/datos_IDEAM[0],'-k', label='IDEAM')\n",
    "pylab.plot(numdatos_satelite,datos_NREL/datos_NREL[0],'--r', label='NREL')\n",
    "\n",
    "pylab.grid()\n",
    "pylab.legend(loc='upper left')\n"
   ]
  },
  {
   "cell_type": "code",
   "execution_count": 20,
   "metadata": {},
   "outputs": [
    {
     "name": "stdout",
     "output_type": "stream",
     "text": [
      "La ENFICC 99% es:  4.16059025817\n"
     ]
    }
   ],
   "source": [
    "percentil = 0.01\n",
    "enficc = ghi_diario_loc.quantile(q=percentil, \n",
    "                                 numeric_only=True)[\"GHIdiario\"]\n",
    "print('La ENFICC 99% es: ', enficc)"
   ]
  },
  {
   "cell_type": "code",
   "execution_count": 21,
   "metadata": {},
   "outputs": [
    {
     "data": {
      "text/plain": [
       "['AÑO', 'MES', 'DIAS', 'GHImes']"
      ]
     },
     "execution_count": 21,
     "metadata": {},
     "output_type": "execute_result"
    }
   ],
   "source": [
    "list(ghi_mensual_loc)"
   ]
  },
  {
   "cell_type": "code",
   "execution_count": null,
   "metadata": {},
   "outputs": [],
   "source": []
  }
 ],
 "metadata": {
  "kernelspec": {
   "display_name": "Python 3.6",
   "language": "python",
   "name": "python36"
  },
  "language_info": {
   "codemirror_mode": {
    "name": "ipython",
    "version": 3
   },
   "file_extension": ".py",
   "mimetype": "text/x-python",
   "name": "python",
   "nbconvert_exporter": "python",
   "pygments_lexer": "ipython3",
   "version": "3.6.3"
  }
 },
 "nbformat": 4,
 "nbformat_minor": 2
}
